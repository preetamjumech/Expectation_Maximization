{
 "cells": [
  {
   "cell_type": "code",
   "execution_count": 1,
   "id": "a04ad8a3",
   "metadata": {},
   "outputs": [],
   "source": [
    "import numpy as np\n",
    "import pandas as pd\n",
    "import matplotlib.pyplot as plt\n",
    "import warnings\n",
    "warnings.filterwarnings(\"ignore\")\n",
    "from sklearn.datasets import make_blobs"
   ]
  },
  {
   "cell_type": "code",
   "execution_count": 2,
   "id": "d2f935bc",
   "metadata": {
    "scrolled": false
   },
   "outputs": [
    {
     "data": {
      "text/plain": [
       "array([[ 5.59854701e+00,  1.55337902e+00],\n",
       "       [ 5.93731445e+00, -1.65299374e+00],\n",
       "       [ 7.07978644e+00,  7.81427747e+00],\n",
       "       [ 6.11096388e+00, -1.32741946e+00],\n",
       "       [ 8.86652262e+00, -1.71649512e+00],\n",
       "       [ 7.44595341e+00,  4.71238958e+00],\n",
       "       [-6.68849383e+00, -9.78214424e+00],\n",
       "       [ 9.19642422e+00,  1.15753695e+01],\n",
       "       [ 8.80996213e+00,  1.19021701e+01],\n",
       "       [-5.23974139e+00, -9.41688311e+00],\n",
       "       [-4.93572726e+00, -9.44093528e+00],\n",
       "       [-4.74108789e+00, -1.02256939e+01],\n",
       "       [ 5.94314330e+00, -1.29406198e+00],\n",
       "       [ 8.00405631e+00,  1.05369537e+01],\n",
       "       [-4.96380368e+00, -9.03358395e+00],\n",
       "       [ 6.58324328e+00, -2.36926802e+00],\n",
       "       [ 6.34526126e+00,  8.70677779e+00],\n",
       "       [ 1.92331500e+00,  2.61439032e+00],\n",
       "       [-5.72609119e+00, -9.05846550e+00],\n",
       "       [ 7.40314915e+00,  1.04234244e+01],\n",
       "       [ 7.27423265e+00,  9.18459991e+00],\n",
       "       [-4.65143630e+00, -9.69641033e+00],\n",
       "       [-5.83739885e+00, -1.00426808e+01],\n",
       "       [ 7.32834529e+00,  5.78195453e+00],\n",
       "       [-5.16493658e+00, -1.00085349e+01],\n",
       "       [ 9.10088858e+00,  9.14807411e+00],\n",
       "       [-4.98715510e+00, -9.70074168e+00],\n",
       "       [ 1.07678556e+01,  4.09588474e+00],\n",
       "       [-5.77799437e+00, -1.07649894e+01],\n",
       "       [ 7.16251356e+00,  9.74878714e+00],\n",
       "       [-5.75178179e+00, -1.04519676e+01],\n",
       "       [-5.46967829e+00, -1.04003372e+01],\n",
       "       [ 7.31294296e+00,  9.92166331e+00],\n",
       "       [-5.27371282e+00, -9.94334593e+00],\n",
       "       [ 3.96420455e+00,  4.15273286e-01],\n",
       "       [ 5.75208957e+00,  2.09650021e+00],\n",
       "       [-5.97756875e+00, -9.97294180e+00],\n",
       "       [-5.09448246e+00, -9.68686581e+00],\n",
       "       [ 7.22696989e+00,  1.03708982e+00],\n",
       "       [ 7.62051584e+00,  9.37144814e+00],\n",
       "       [ 6.96767867e+00,  8.96225230e+00],\n",
       "       [ 1.02174138e+01, -1.99344708e+00],\n",
       "       [ 8.74096866e+00,  1.94905534e-01],\n",
       "       [ 5.52161775e+00,  7.98446372e+00],\n",
       "       [ 6.26336787e+00,  3.31182277e-01],\n",
       "       [ 7.89765814e+00,  8.21954764e+00],\n",
       "       [ 7.40292703e+00,  9.16217702e+00],\n",
       "       [ 9.43309804e+00,  3.98335078e+00],\n",
       "       [-5.36781556e+00, -1.01182504e+01],\n",
       "       [ 5.27801757e+00,  8.93474119e+00],\n",
       "       [-6.24962587e+00, -9.86685528e+00],\n",
       "       [ 1.06097955e+01, -1.87217759e+00],\n",
       "       [ 7.55303352e+00,  1.18570611e+01],\n",
       "       [-5.61406896e+00, -1.05103069e+01],\n",
       "       [-5.90249288e+00, -9.02541386e+00],\n",
       "       [-5.48756481e+00, -9.79782058e+00],\n",
       "       [ 5.59878870e+00,  7.59170022e+00],\n",
       "       [ 8.93927605e+00,  1.09767320e+00],\n",
       "       [ 6.85769503e+00,  1.03010593e+01],\n",
       "       [ 4.19741974e+00, -2.31524546e+00],\n",
       "       [-4.69651187e+00, -9.80567894e+00],\n",
       "       [ 5.82259795e+00,  8.88727231e+00],\n",
       "       [-6.38473818e+00, -9.93337546e+00],\n",
       "       [ 6.89703841e+00,  7.98081009e+00],\n",
       "       [ 3.77160279e+00,  2.05470316e+00],\n",
       "       [ 6.55642398e+00,  1.79871728e+00],\n",
       "       [-5.27878393e+00, -9.42291883e+00],\n",
       "       [ 8.91328578e+00,  2.26126512e+00],\n",
       "       [ 6.89078889e+00,  1.06129890e+01],\n",
       "       [ 6.10748214e+00,  1.88195973e-01],\n",
       "       [ 8.91111219e+00,  9.14933265e+00],\n",
       "       [ 7.57818277e+00,  9.58629233e+00],\n",
       "       [-5.91734009e+00, -9.80134184e+00],\n",
       "       [ 7.79924692e+00,  1.05957695e+01],\n",
       "       [ 7.49985237e+00,  9.55274284e+00],\n",
       "       [ 9.94109903e+00,  9.22395667e+00],\n",
       "       [-5.50121578e+00, -9.44791552e+00],\n",
       "       [-5.28674755e+00, -9.76799583e+00],\n",
       "       [-5.72182725e+00, -8.75404034e+00],\n",
       "       [-5.73435319e+00, -8.48158136e+00],\n",
       "       [ 8.81545663e+00,  8.76386046e+00],\n",
       "       [ 5.34616504e+00, -6.87598301e-01],\n",
       "       [ 9.15668309e+00,  9.59459888e+00],\n",
       "       [-5.30919087e+00, -9.95837766e+00],\n",
       "       [-5.38963762e+00, -1.01920464e+01],\n",
       "       [ 9.22032465e+00,  7.22447114e+00],\n",
       "       [-5.55076982e+00, -8.79244033e+00],\n",
       "       [ 4.97539369e+00, -2.58577957e-01],\n",
       "       [ 7.23201743e+00, -5.46909224e+00],\n",
       "       [ 5.28577651e+00,  1.32401303e+00],\n",
       "       [ 7.58423725e+00,  1.07012439e+01],\n",
       "       [ 1.07124742e+01, -1.45183129e+00],\n",
       "       [ 6.88609453e+00,  4.64808992e+00],\n",
       "       [ 7.80361128e+00,  9.74561264e+00],\n",
       "       [ 7.96481592e+00,  8.03914659e+00],\n",
       "       [ 6.65712690e+00,  7.72756233e+00],\n",
       "       [ 7.29433984e+00,  9.79486468e+00],\n",
       "       [-5.41846684e+00, -9.22912146e+00],\n",
       "       [-4.85161046e+00, -9.58652835e+00],\n",
       "       [ 5.17247266e+00, -3.01777706e-01],\n",
       "       [ 9.02255525e+00,  1.00677790e+01],\n",
       "       [ 7.61227907e+00,  9.44636270e+00],\n",
       "       [ 1.09490358e+01,  2.93524062e+00],\n",
       "       [-5.52864241e+00, -1.06906648e+01],\n",
       "       [-4.98520399e+00, -9.16228437e+00],\n",
       "       [-5.19550935e+00, -9.29894608e+00],\n",
       "       [-4.32216880e+00, -9.73694817e+00],\n",
       "       [ 4.57945748e+00,  3.01697175e+00],\n",
       "       [-4.24229370e+00, -9.78837105e+00],\n",
       "       [ 8.47871918e+00,  3.90156436e-01],\n",
       "       [ 7.71873867e+00, -3.35859647e-01],\n",
       "       [-4.79732035e+00, -9.73497020e+00],\n",
       "       [-5.21792616e+00, -1.01142383e+01],\n",
       "       [ 3.54830006e+00,  8.80374038e-01],\n",
       "       [ 7.46996922e+00,  8.44935323e+00],\n",
       "       [ 5.74167190e+00,  4.40018395e+00],\n",
       "       [ 1.06117236e+01,  1.33593958e-02],\n",
       "       [-4.97478137e+00, -9.24478344e+00],\n",
       "       [ 5.07337492e+00,  1.05248297e+01],\n",
       "       [-5.29405195e+00, -9.97385356e+00],\n",
       "       [ 9.22293798e+00,  4.77341583e-01],\n",
       "       [ 6.15895483e+00,  8.70208685e+00],\n",
       "       [ 7.94310647e+00,  8.20622208e+00],\n",
       "       [ 8.59520497e+00, -1.88747770e+00],\n",
       "       [-6.55268517e+00, -9.41792559e+00],\n",
       "       [ 1.10699810e+01, -1.79187708e+00],\n",
       "       [ 1.00136753e+01,  1.05208945e+01],\n",
       "       [ 8.99334153e+00,  9.73134910e+00],\n",
       "       [-4.92302132e+00, -9.46550755e+00],\n",
       "       [ 4.40935159e+00, -1.00525977e+00],\n",
       "       [ 7.26697254e+00,  9.87045836e+00],\n",
       "       [-5.06252494e+00, -1.02672841e+01],\n",
       "       [ 5.62803952e+00,  9.77585443e+00],\n",
       "       [ 9.96365719e+00, -6.22292947e-03],\n",
       "       [-5.38210812e+00, -9.88506650e+00],\n",
       "       [ 7.45778000e+00,  4.32006173e-01],\n",
       "       [ 8.32245091e+00,  9.67819196e+00],\n",
       "       [ 8.32813617e+00,  9.14002426e+00],\n",
       "       [ 7.56475962e+00,  1.12476287e+01],\n",
       "       [ 8.72740842e+00,  1.02479042e+00],\n",
       "       [ 8.00236864e+00,  1.01691733e+01],\n",
       "       [ 4.33366829e+00,  1.05103468e+01],\n",
       "       [ 6.02937898e+00,  1.03197406e+01],\n",
       "       [-5.59261336e+00, -9.67794646e+00],\n",
       "       [ 7.70513993e+00,  4.23925531e+00],\n",
       "       [ 9.17061801e+00,  1.03769070e+01],\n",
       "       [ 7.63027116e+00,  8.69797933e+00],\n",
       "       [-4.86081788e+00, -9.97895226e+00],\n",
       "       [ 1.05268881e+01,  3.05737265e+00],\n",
       "       [ 2.52663901e+00,  3.06396832e+00],\n",
       "       [ 7.82649167e+00, -2.21823797e+00],\n",
       "       [ 3.98357232e+00, -2.22631942e+00],\n",
       "       [ 6.58775368e+00,  1.01242908e+00],\n",
       "       [ 7.63325530e+00,  5.01163415e-01],\n",
       "       [ 7.09022949e+00,  8.57919798e+00],\n",
       "       [-6.06559602e+00, -9.77595753e+00],\n",
       "       [ 6.25817082e+00,  9.79505477e+00],\n",
       "       [ 5.94205586e+00,  1.05076833e+01],\n",
       "       [ 7.82510107e+00,  8.41865266e+00],\n",
       "       [-6.09240760e+00, -9.02067743e+00],\n",
       "       [-5.83603148e+00, -1.00381040e+01],\n",
       "       [ 8.03753535e+00, -5.65331486e+00],\n",
       "       [-5.59584344e+00, -9.39035328e+00],\n",
       "       [ 7.02527819e+00,  1.75361984e+00],\n",
       "       [ 1.22212477e+01, -2.57011684e+00],\n",
       "       [ 5.10790081e+00, -6.90088342e-01],\n",
       "       [ 5.17096978e+00, -1.74295232e+00],\n",
       "       [ 8.52266083e+00, -1.19832333e+00],\n",
       "       [ 6.76480046e+00, -2.64630896e+00],\n",
       "       [ 8.32247392e+00,  2.91659076e+00],\n",
       "       [ 7.39634594e+00,  8.90196559e+00],\n",
       "       [-4.48351390e+00, -1.01152660e+01],\n",
       "       [-5.56967493e+00, -9.20923928e+00],\n",
       "       [-5.06409004e+00, -1.02686929e+01],\n",
       "       [-5.07522871e+00, -1.00283252e+01],\n",
       "       [-5.64159530e+00, -9.84442570e+00],\n",
       "       [ 6.28516091e+00,  1.12871769e+01],\n",
       "       [ 7.56886614e+00, -5.24984383e+00],\n",
       "       [ 7.40565933e+00,  8.82924480e+00],\n",
       "       [ 7.49900576e+00,  2.54277040e+00],\n",
       "       [-5.83305953e+00, -1.00334123e+01],\n",
       "       [ 6.53423970e+00,  9.45532341e+00],\n",
       "       [ 5.17209648e+00,  1.17806476e+01],\n",
       "       [ 2.46125099e+00, -2.00306965e-01],\n",
       "       [-4.10269758e+00, -9.69856909e+00],\n",
       "       [-5.11375305e+00, -1.02096231e+01],\n",
       "       [ 9.28241739e+00,  1.72337498e+00],\n",
       "       [ 7.28724996e+00,  7.62099800e+00],\n",
       "       [-5.99294064e+00, -1.00886474e+01],\n",
       "       [ 7.59635095e+00,  8.01979550e+00],\n",
       "       [-5.68043482e+00, -9.38687141e+00],\n",
       "       [-5.37199449e+00, -9.59505136e+00],\n",
       "       [ 8.18240421e+00,  8.16999978e+00],\n",
       "       [-4.77148460e+00, -9.23905572e+00],\n",
       "       [ 6.91511696e+00,  8.64812384e+00],\n",
       "       [ 8.28604108e+00,  1.25575965e+00],\n",
       "       [ 3.94697771e+00,  6.41191872e-01],\n",
       "       [ 7.24211001e+00,  7.48506871e+00],\n",
       "       [ 8.26341570e+00,  1.03472344e+01],\n",
       "       [-4.83837810e+00, -8.66072328e+00]])"
      ]
     },
     "execution_count": 2,
     "metadata": {},
     "output_type": "execute_result"
    }
   ],
   "source": [
    "X,y = make_blobs(n_samples=200,random_state=8,cluster_std=[1.0,2.5,0.5])\n",
    "X"
   ]
  },
  {
   "cell_type": "code",
   "execution_count": 3,
   "id": "5ec15405",
   "metadata": {},
   "outputs": [
    {
     "data": {
      "text/plain": [
       "array([1, 1, 0, 1, 1, 1, 2, 0, 0, 2, 2, 2, 1, 0, 2, 1, 0, 1, 2, 0, 0, 2,\n",
       "       2, 1, 2, 0, 2, 1, 2, 0, 2, 2, 0, 2, 1, 1, 2, 2, 1, 0, 0, 1, 1, 0,\n",
       "       1, 0, 0, 1, 2, 0, 2, 1, 0, 2, 2, 2, 0, 1, 0, 1, 2, 0, 2, 0, 1, 1,\n",
       "       2, 1, 0, 1, 0, 0, 2, 0, 0, 0, 2, 2, 2, 2, 0, 1, 0, 2, 2, 1, 2, 1,\n",
       "       1, 1, 0, 1, 1, 0, 0, 0, 0, 2, 2, 1, 0, 0, 1, 2, 2, 2, 2, 1, 2, 1,\n",
       "       1, 2, 2, 1, 0, 1, 1, 2, 0, 2, 1, 0, 0, 1, 2, 1, 0, 0, 2, 1, 0, 2,\n",
       "       0, 1, 2, 1, 0, 0, 0, 1, 0, 0, 0, 2, 1, 0, 0, 2, 1, 1, 1, 1, 1, 1,\n",
       "       0, 2, 0, 0, 0, 2, 2, 1, 2, 1, 1, 1, 1, 1, 1, 1, 0, 2, 2, 2, 2, 2,\n",
       "       0, 1, 0, 1, 2, 0, 0, 1, 2, 2, 1, 0, 2, 0, 2, 2, 0, 2, 0, 1, 1, 0,\n",
       "       0, 2])"
      ]
     },
     "execution_count": 3,
     "metadata": {},
     "output_type": "execute_result"
    }
   ],
   "source": [
    "y"
   ]
  },
  {
   "cell_type": "code",
   "execution_count": 4,
   "id": "ccc2131f",
   "metadata": {},
   "outputs": [
    {
     "data": {
      "text/plain": [
       "<matplotlib.collections.PathCollection at 0x1a48ad110d0>"
      ]
     },
     "execution_count": 4,
     "metadata": {},
     "output_type": "execute_result"
    },
    {
     "data": {
      "image/png": "[encoded data removed]",
      "text/plain": [
       "<Figure size 432x288 with 1 Axes>"
      ]
     },
     "metadata": {
      "needs_background": "light"
     },
     "output_type": "display_data"
    }
   ],
   "source": [
    "plt.scatter(X[:,0],X[:,1],c=y)"
   ]
  },
  {
   "cell_type": "code",
   "execution_count": 5,
   "id": "52c92f16",
   "metadata": {},
   "outputs": [],
   "source": [
    "from sklearn import mixture"
   ]
  },
  {
   "cell_type": "code",
   "execution_count": 6,
   "id": "0a4d8c2c",
   "metadata": {},
   "outputs": [
    {
     "data": {
      "text/html": [
       "<style>#sk-container-id-1 {color: black;background-color: white;}#sk-container-id-1 pre{padding: 0;}#sk-container-id-1 div.sk-toggleable {background-color: white;}#sk-container-id-1 label.sk-toggleable__label {cursor: pointer;display: block;width: 100%;margin-bottom: 0;padding: 0.3em;box-sizing: border-box;text-align: center;}#sk-container-id-1 label.sk-toggleable__label-arrow:before {content: \"▸\";float: left;margin-right: 0.25em;color: #696969;}#sk-container-id-1 label.sk-toggleable__label-arrow:hover:before {color: black;}#sk-container-id-1 div.sk-estimator:hover label.sk-toggleable__label-arrow:before {color: black;}#sk-container-id-1 div.sk-toggleable__content {max-height: 0;max-width: 0;overflow: hidden;text-align: left;background-color: #f0f8ff;}#sk-container-id-1 div.sk-toggleable__content pre {margin: 0.2em;color: black;border-radius: 0.25em;background-color: #f0f8ff;}#sk-container-id-1 input.sk-toggleable__control:checked~div.sk-toggleable__content {max-height: 200px;max-width: 100%;overflow: auto;}#sk-container-id-1 input.sk-toggleable__control:checked~label.sk-toggleable__label-arrow:before {content: \"▾\";}#sk-container-id-1 div.sk-estimator input.sk-toggleable__control:checked~label.sk-toggleable__label {background-color: #d4ebff;}#sk-container-id-1 div.sk-label input.sk-toggleable__control:checked~label.sk-toggleable__label {background-color: #d4ebff;}#sk-container-id-1 input.sk-hidden--visually {border: 0;clip: rect(1px 1px 1px 1px);clip: rect(1px, 1px, 1px, 1px);height: 1px;margin: -1px;overflow: hidden;padding: 0;position: absolute;width: 1px;}#sk-container-id-1 div.sk-estimator {font-family: monospace;background-color: #f0f8ff;border: 1px dotted black;border-radius: 0.25em;box-sizing: border-box;margin-bottom: 0.5em;}#sk-container-id-1 div.sk-estimator:hover {background-color: #d4ebff;}#sk-container-id-1 div.sk-parallel-item::after {content: \"\";width: 100%;border-bottom: 1px solid gray;flex-grow: 1;}#sk-container-id-1 div.sk-label:hover label.sk-toggleable__label {background-color: #d4ebff;}#sk-container-id-1 div.sk-serial::before {content: \"\";position: absolute;border-left: 1px solid gray;box-sizing: border-box;top: 0;bottom: 0;left: 50%;z-index: 0;}#sk-container-id-1 div.sk-serial {display: flex;flex-direction: column;align-items: center;background-color: white;padding-right: 0.2em;padding-left: 0.2em;position: relative;}#sk-container-id-1 div.sk-item {position: relative;z-index: 1;}#sk-container-id-1 div.sk-parallel {display: flex;align-items: stretch;justify-content: center;background-color: white;position: relative;}#sk-container-id-1 div.sk-item::before, #sk-container-id-1 div.sk-parallel-item::before {content: \"\";position: absolute;border-left: 1px solid gray;box-sizing: border-box;top: 0;bottom: 0;left: 50%;z-index: -1;}#sk-container-id-1 div.sk-parallel-item {display: flex;flex-direction: column;z-index: 1;position: relative;background-color: white;}#sk-container-id-1 div.sk-parallel-item:first-child::after {align-self: flex-end;width: 50%;}#sk-container-id-1 div.sk-parallel-item:last-child::after {align-self: flex-start;width: 50%;}#sk-container-id-1 div.sk-parallel-item:only-child::after {width: 0;}#sk-container-id-1 div.sk-dashed-wrapped {border: 1px dashed gray;margin: 0 0.4em 0.5em 0.4em;box-sizing: border-box;padding-bottom: 0.4em;background-color: white;}#sk-container-id-1 div.sk-label label {font-family: monospace;font-weight: bold;display: inline-block;line-height: 1.2em;}#sk-container-id-1 div.sk-label-container {text-align: center;}#sk-container-id-1 div.sk-container {/* jupyter's `normalize.less` sets `[hidden] { display: none; }` but bootstrap.min.css set `[hidden] { display: none !important; }` so we also need the `!important` here to be able to override the default hidden behavior on the sphinx rendered scikit-learn.org. See: https://github.com/scikit-learn/scikit-learn/issues/21755 */display: inline-block !important;position: relative;}#sk-container-id-1 div.sk-text-repr-fallback {display: none;}</style><div id=\"sk-container-id-1\" class=\"sk-top-container\"><div class=\"sk-text-repr-fallback\"><pre>GaussianMixture(covariance_type=&#x27;tied&#x27;, init_params=&#x27;random&#x27;, n_components=3)</pre><b>In a Jupyter environment, please rerun this cell to show the HTML representation or trust the notebook. <br />On GitHub, the HTML representation is unable to render, please try loading this page with nbviewer.org.</b></div><div class=\"sk-container\" hidden><div class=\"sk-item\"><div class=\"sk-estimator sk-toggleable\"><input class=\"sk-toggleable__control sk-hidden--visually\" id=\"sk-estimator-id-1\" type=\"checkbox\" checked><label for=\"sk-estimator-id-1\" class=\"sk-toggleable__label sk-toggleable__label-arrow\">GaussianMixture</label><div class=\"sk-toggleable__content\"><pre>GaussianMixture(covariance_type=&#x27;tied&#x27;, init_params=&#x27;random&#x27;, n_components=3)</pre></div></div></div></div></div>"
      ],
      "text/plain": [
       "GaussianMixture(covariance_type='tied', init_params='random', n_components=3)"
      ]
     },
     "execution_count": 6,
     "metadata": {},
     "output_type": "execute_result"
    }
   ],
   "source": [
    "gmm = mixture.GaussianMixture(n_components=3,covariance_type=\"tied\",max_iter=100,init_params=\"random\")\n",
    "gmm.fit(X)"
   ]
  },
  {
   "cell_type": "code",
   "execution_count": 7,
   "id": "9df5f037",
   "metadata": {},
   "outputs": [],
   "source": [
    "y_clus=gmm.predict(X)"
   ]
  },
  {
   "cell_type": "code",
   "execution_count": 8,
   "id": "681a57e2",
   "metadata": {},
   "outputs": [
    {
     "data": {
      "text/plain": [
       "array([2, 2, 0, 2, 2, 2, 2, 1, 1, 2, 2, 2, 2, 1, 2, 2, 1, 2, 2, 1, 0, 2,\n",
       "       2, 2, 2, 0, 2, 2, 2, 1, 2, 2, 1, 2, 2, 2, 2, 2, 2, 0, 1, 2, 2, 1,\n",
       "       2, 0, 0, 2, 2, 1, 2, 2, 1, 2, 2, 2, 1, 2, 1, 2, 2, 1, 2, 0, 2, 2,\n",
       "       2, 2, 1, 2, 0, 1, 2, 1, 1, 0, 2, 2, 2, 2, 0, 2, 0, 2, 2, 2, 2, 2,\n",
       "       2, 2, 1, 2, 2, 0, 0, 0, 1, 2, 2, 2, 0, 0, 2, 2, 2, 2, 2, 2, 2, 2,\n",
       "       2, 2, 2, 2, 0, 2, 2, 2, 1, 2, 2, 1, 0, 2, 2, 2, 0, 0, 2, 2, 1, 2,\n",
       "       1, 2, 2, 2, 0, 0, 1, 2, 1, 1, 1, 2, 2, 0, 0, 2, 2, 2, 2, 2, 2, 2,\n",
       "       0, 2, 1, 1, 0, 2, 2, 2, 2, 2, 2, 2, 2, 2, 2, 2, 0, 2, 2, 2, 2, 2,\n",
       "       1, 2, 0, 2, 2, 1, 1, 2, 2, 2, 2, 0, 2, 0, 2, 2, 0, 2, 0, 2, 2, 0,\n",
       "       1, 2], dtype=int64)"
      ]
     },
     "execution_count": 8,
     "metadata": {},
     "output_type": "execute_result"
    }
   ],
   "source": [
    "y_clus"
   ]
  },
  {
   "cell_type": "code",
   "execution_count": 9,
   "id": "2f46f036",
   "metadata": {},
   "outputs": [
    {
     "data": {
      "text/plain": [
       "<matplotlib.collections.PathCollection at 0x1a48de524f0>"
      ]
     },
     "execution_count": 9,
     "metadata": {},
     "output_type": "execute_result"
    },
    {
     "data": {
      "image/png": "[encoded data removed]",
      "text/plain": [
       "<Figure size 432x288 with 1 Axes>"
      ]
     },
     "metadata": {
      "needs_background": "light"
     },
     "output_type": "display_data"
    }
   ],
   "source": [
    "plt.scatter(X[:,0],X[:,1],c=y_clus)"
   ]
  },
  {
   "cell_type": "markdown",
   "id": "715b57eb",
   "metadata": {},
   "source": [
    "# Effect of different paramters"
   ]
  },
  {
   "cell_type": "code",
   "execution_count": 10,
   "id": "08ee9855",
   "metadata": {},
   "outputs": [
    {
     "data": {
      "text/html": [
       "<style>#sk-container-id-2 {color: black;background-color: white;}#sk-container-id-2 pre{padding: 0;}#sk-container-id-2 div.sk-toggleable {background-color: white;}#sk-container-id-2 label.sk-toggleable__label {cursor: pointer;display: block;width: 100%;margin-bottom: 0;padding: 0.3em;box-sizing: border-box;text-align: center;}#sk-container-id-2 label.sk-toggleable__label-arrow:before {content: \"▸\";float: left;margin-right: 0.25em;color: #696969;}#sk-container-id-2 label.sk-toggleable__label-arrow:hover:before {color: black;}#sk-container-id-2 div.sk-estimator:hover label.sk-toggleable__label-arrow:before {color: black;}#sk-container-id-2 div.sk-toggleable__content {max-height: 0;max-width: 0;overflow: hidden;text-align: left;background-color: #f0f8ff;}#sk-container-id-2 div.sk-toggleable__content pre {margin: 0.2em;color: black;border-radius: 0.25em;background-color: #f0f8ff;}#sk-container-id-2 input.sk-toggleable__control:checked~div.sk-toggleable__content {max-height: 200px;max-width: 100%;overflow: auto;}#sk-container-id-2 input.sk-toggleable__control:checked~label.sk-toggleable__label-arrow:before {content: \"▾\";}#sk-container-id-2 div.sk-estimator input.sk-toggleable__control:checked~label.sk-toggleable__label {background-color: #d4ebff;}#sk-container-id-2 div.sk-label input.sk-toggleable__control:checked~label.sk-toggleable__label {background-color: #d4ebff;}#sk-container-id-2 input.sk-hidden--visually {border: 0;clip: rect(1px 1px 1px 1px);clip: rect(1px, 1px, 1px, 1px);height: 1px;margin: -1px;overflow: hidden;padding: 0;position: absolute;width: 1px;}#sk-container-id-2 div.sk-estimator {font-family: monospace;background-color: #f0f8ff;border: 1px dotted black;border-radius: 0.25em;box-sizing: border-box;margin-bottom: 0.5em;}#sk-container-id-2 div.sk-estimator:hover {background-color: #d4ebff;}#sk-container-id-2 div.sk-parallel-item::after {content: \"\";width: 100%;border-bottom: 1px solid gray;flex-grow: 1;}#sk-container-id-2 div.sk-label:hover label.sk-toggleable__label {background-color: #d4ebff;}#sk-container-id-2 div.sk-serial::before {content: \"\";position: absolute;border-left: 1px solid gray;box-sizing: border-box;top: 0;bottom: 0;left: 50%;z-index: 0;}#sk-container-id-2 div.sk-serial {display: flex;flex-direction: column;align-items: center;background-color: white;padding-right: 0.2em;padding-left: 0.2em;position: relative;}#sk-container-id-2 div.sk-item {position: relative;z-index: 1;}#sk-container-id-2 div.sk-parallel {display: flex;align-items: stretch;justify-content: center;background-color: white;position: relative;}#sk-container-id-2 div.sk-item::before, #sk-container-id-2 div.sk-parallel-item::before {content: \"\";position: absolute;border-left: 1px solid gray;box-sizing: border-box;top: 0;bottom: 0;left: 50%;z-index: -1;}#sk-container-id-2 div.sk-parallel-item {display: flex;flex-direction: column;z-index: 1;position: relative;background-color: white;}#sk-container-id-2 div.sk-parallel-item:first-child::after {align-self: flex-end;width: 50%;}#sk-container-id-2 div.sk-parallel-item:last-child::after {align-self: flex-start;width: 50%;}#sk-container-id-2 div.sk-parallel-item:only-child::after {width: 0;}#sk-container-id-2 div.sk-dashed-wrapped {border: 1px dashed gray;margin: 0 0.4em 0.5em 0.4em;box-sizing: border-box;padding-bottom: 0.4em;background-color: white;}#sk-container-id-2 div.sk-label label {font-family: monospace;font-weight: bold;display: inline-block;line-height: 1.2em;}#sk-container-id-2 div.sk-label-container {text-align: center;}#sk-container-id-2 div.sk-container {/* jupyter's `normalize.less` sets `[hidden] { display: none; }` but bootstrap.min.css set `[hidden] { display: none !important; }` so we also need the `!important` here to be able to override the default hidden behavior on the sphinx rendered scikit-learn.org. See: https://github.com/scikit-learn/scikit-learn/issues/21755 */display: inline-block !important;position: relative;}#sk-container-id-2 div.sk-text-repr-fallback {display: none;}</style><div id=\"sk-container-id-2\" class=\"sk-top-container\"><div class=\"sk-text-repr-fallback\"><pre>GaussianMixture(init_params=&#x27;random&#x27;, n_components=3)</pre><b>In a Jupyter environment, please rerun this cell to show the HTML representation or trust the notebook. <br />On GitHub, the HTML representation is unable to render, please try loading this page with nbviewer.org.</b></div><div class=\"sk-container\" hidden><div class=\"sk-item\"><div class=\"sk-estimator sk-toggleable\"><input class=\"sk-toggleable__control sk-hidden--visually\" id=\"sk-estimator-id-2\" type=\"checkbox\" checked><label for=\"sk-estimator-id-2\" class=\"sk-toggleable__label sk-toggleable__label-arrow\">GaussianMixture</label><div class=\"sk-toggleable__content\"><pre>GaussianMixture(init_params=&#x27;random&#x27;, n_components=3)</pre></div></div></div></div></div>"
      ],
      "text/plain": [
       "GaussianMixture(init_params='random', n_components=3)"
      ]
     },
     "execution_count": 10,
     "metadata": {},
     "output_type": "execute_result"
    }
   ],
   "source": [
    "gmm1 = mixture.GaussianMixture(n_components=3,covariance_type=\"full\",max_iter=100,init_params=\"random\")\n",
    "gmm1.fit(X)"
   ]
  },
  {
   "cell_type": "code",
   "execution_count": 11,
   "id": "79fd4edf",
   "metadata": {},
   "outputs": [],
   "source": [
    "y_clus1=gmm1.predict(X)"
   ]
  },
  {
   "cell_type": "code",
   "execution_count": 12,
   "id": "60fd5492",
   "metadata": {},
   "outputs": [
    {
     "data": {
      "text/plain": [
       "array([0, 0, 1, 0, 0, 0, 2, 1, 1, 2, 2, 2, 0, 1, 2, 0, 1, 0, 2, 1, 1, 2,\n",
       "       2, 0, 2, 1, 2, 0, 2, 1, 2, 2, 1, 2, 0, 0, 2, 2, 0, 1, 1, 0, 0, 1,\n",
       "       0, 1, 1, 0, 2, 1, 2, 0, 1, 2, 2, 2, 1, 0, 1, 0, 2, 1, 2, 1, 0, 0,\n",
       "       2, 0, 1, 0, 1, 1, 2, 1, 1, 1, 2, 2, 2, 2, 1, 0, 1, 2, 2, 1, 2, 0,\n",
       "       0, 0, 1, 0, 0, 1, 1, 1, 1, 2, 2, 0, 1, 1, 0, 2, 2, 2, 2, 0, 2, 0,\n",
       "       0, 2, 2, 0, 1, 0, 0, 2, 1, 2, 0, 1, 1, 0, 2, 0, 1, 1, 2, 0, 1, 2,\n",
       "       1, 0, 2, 0, 1, 1, 1, 0, 1, 1, 1, 2, 0, 1, 1, 2, 0, 0, 0, 0, 0, 0,\n",
       "       1, 2, 1, 1, 1, 2, 2, 0, 2, 0, 0, 0, 0, 0, 0, 0, 1, 2, 2, 2, 2, 2,\n",
       "       1, 0, 1, 0, 2, 1, 1, 0, 2, 2, 0, 1, 2, 1, 2, 2, 1, 2, 1, 0, 0, 1,\n",
       "       1, 2], dtype=int64)"
      ]
     },
     "execution_count": 12,
     "metadata": {},
     "output_type": "execute_result"
    }
   ],
   "source": [
    "y_clus1"
   ]
  },
  {
   "cell_type": "code",
   "execution_count": 13,
   "id": "e64bea47",
   "metadata": {},
   "outputs": [
    {
     "data": {
      "text/plain": [
       "<matplotlib.collections.PathCollection at 0x1a48deb9670>"
      ]
     },
     "execution_count": 13,
     "metadata": {},
     "output_type": "execute_result"
    },
    {
     "data": {
      "image/png": "[encoded data removed]",
      "text/plain": [
       "<Figure size 432x288 with 1 Axes>"
      ]
     },
     "metadata": {
      "needs_background": "light"
     },
     "output_type": "display_data"
    }
   ],
   "source": [
    "plt.scatter(X[:,0],X[:,1],c=y_clus1)"
   ]
  },
  {
   "cell_type": "markdown",
   "id": "6207ed0a",
   "metadata": {},
   "source": [
    "# Clustering on iris dataset"
   ]
  },
  {
   "cell_type": "code",
   "execution_count": 14,
   "id": "c436688f",
   "metadata": {},
   "outputs": [],
   "source": [
    "from sklearn import metrics"
   ]
  },
  {
   "cell_type": "code",
   "execution_count": 15,
   "id": "f0dc6a11",
   "metadata": {},
   "outputs": [],
   "source": [
    "def purity_score(y_true,y_pred):\n",
    "    contingency_matrix = metrics.cluster.contingency_matrix(y_true,y_pred)\n",
    "    return np.sum(np.amax(contingency_matrix,axis=0))/np.sum(contingency_matrix)"
   ]
  },
  {
   "cell_type": "code",
   "execution_count": 16,
   "id": "7d0c5e1d",
   "metadata": {},
   "outputs": [],
   "source": [
    "#a=np.array([[2,9],[6,3]])"
   ]
  },
  {
   "cell_type": "code",
   "execution_count": 17,
   "id": "17622f03",
   "metadata": {},
   "outputs": [],
   "source": [
    "#a"
   ]
  },
  {
   "cell_type": "code",
   "execution_count": 18,
   "id": "cc81ecf5",
   "metadata": {},
   "outputs": [],
   "source": [
    "#np.amax(a)"
   ]
  },
  {
   "cell_type": "code",
   "execution_count": 19,
   "id": "c8f92028",
   "metadata": {},
   "outputs": [],
   "source": [
    "#np.amax(a,axis=1)"
   ]
  },
  {
   "cell_type": "code",
   "execution_count": 20,
   "id": "5eda40d3",
   "metadata": {},
   "outputs": [],
   "source": [
    "#np.amax(a,axis=0)"
   ]
  },
  {
   "cell_type": "code",
   "execution_count": 21,
   "id": "148d19c3",
   "metadata": {},
   "outputs": [],
   "source": [
    "from sklearn import datasets\n",
    "myiris = datasets.load_iris()\n",
    "X = myiris.data\n",
    "y = myiris.target"
   ]
  },
  {
   "cell_type": "code",
   "execution_count": 22,
   "id": "238fb502",
   "metadata": {},
   "outputs": [
    {
     "name": "stdout",
     "output_type": "stream",
     "text": [
      "['Random 10 tied']\n",
      "[0.76]\n"
     ]
    }
   ],
   "source": [
    "lab=list()\n",
    "pure=list()\n",
    "gmm = mixture.GaussianMixture(n_components=3, covariance_type='tied',max_iter=10,init_params='random')\n",
    "gmm.fit(X)\n",
    "yclust=gmm.predict(X)\n",
    "lab.append('Random 10 tied')\n",
    "pure.append(purity_score(y,yclust))\n",
    "print(lab)\n",
    "print(pure)"
   ]
  },
  {
   "cell_type": "code",
   "execution_count": 23,
   "id": "cb9f4a35",
   "metadata": {},
   "outputs": [
    {
     "name": "stdout",
     "output_type": "stream",
     "text": [
      "['Random 10 tied', 'Random 100 tied']\n",
      "[0.76, 0.5933333333333334]\n"
     ]
    }
   ],
   "source": [
    "gmm = mixture.GaussianMixture(n_components=3, covariance_type='tied',max_iter=100,init_params='random')\n",
    "gmm.fit(X)\n",
    "yclust=gmm.predict(X)\n",
    "lab.append('Random 100 tied')\n",
    "pure.append(purity_score(y,yclust))\n",
    "print(lab)\n",
    "print(pure)"
   ]
  },
  {
   "cell_type": "code",
   "execution_count": 24,
   "id": "80ed6053",
   "metadata": {},
   "outputs": [
    {
     "name": "stdout",
     "output_type": "stream",
     "text": [
      "['Random 10 tied', 'Random 100 tied', 'Random 10 full']\n",
      "[0.76, 0.5933333333333334, 0.6133333333333333]\n"
     ]
    }
   ],
   "source": [
    "gmm = mixture.GaussianMixture(n_components=3, covariance_type='full',max_iter=10,init_params='random')\n",
    "gmm.fit(X)\n",
    "yclust=gmm.predict(X)\n",
    "lab.append('Random 10 full')\n",
    "pure.append(purity_score(y,yclust))\n",
    "print(lab)\n",
    "print(pure)"
   ]
  },
  {
   "cell_type": "code",
   "execution_count": 25,
   "id": "edb6ba0d",
   "metadata": {},
   "outputs": [
    {
     "name": "stdout",
     "output_type": "stream",
     "text": [
      "['Random 10 tied', 'Random 100 tied', 'Random 10 full', 'Random 100 full']\n",
      "[0.76, 0.5933333333333334, 0.6133333333333333, 0.7933333333333333]\n"
     ]
    }
   ],
   "source": [
    "gmm = mixture.GaussianMixture(n_components=3, covariance_type='full',max_iter=100,init_params='random')\n",
    "gmm.fit(X)\n",
    "yclust=gmm.predict(X)\n",
    "lab.append('Random 100 full')\n",
    "pure.append(purity_score(y,yclust))\n",
    "print(lab)\n",
    "print(pure)"
   ]
  },
  {
   "cell_type": "code",
   "execution_count": 26,
   "id": "113aca3f",
   "metadata": {},
   "outputs": [
    {
     "name": "stdout",
     "output_type": "stream",
     "text": [
      "['Random 10 tied', 'Random 100 tied', 'Random 10 full', 'Random 100 full', 'Init kmeans 100 full']\n",
      "[0.76, 0.5933333333333334, 0.6133333333333333, 0.7933333333333333, 0.9666666666666667]\n"
     ]
    }
   ],
   "source": [
    "gmm = mixture.GaussianMixture(n_components=3, covariance_type='full',max_iter=100,init_params='kmeans')\n",
    "gmm.fit(X)\n",
    "yclust=gmm.predict(X)\n",
    "lab.append('Init kmeans 100 full')\n",
    "pure.append(purity_score(y,yclust))\n",
    "print(lab)\n",
    "print(pure)"
   ]
  },
  {
   "cell_type": "markdown",
   "id": "fc92778c",
   "metadata": {},
   "source": [
    "# Using kmaeans"
   ]
  },
  {
   "cell_type": "code",
   "execution_count": 27,
   "id": "8285caf6",
   "metadata": {},
   "outputs": [],
   "source": [
    "from sklearn.cluster import KMeans\n",
    "kmeans = KMeans(n_clusters = 3, init = 'random', max_iter = 300, n_init = 10, random_state = 0)\n",
    "yclust = kmeans.fit_predict(X)\n",
    "lab.append('kmeans')\n",
    "pure.append(purity_score(y,yclust))"
   ]
  },
  {
   "cell_type": "code",
   "execution_count": 28,
   "id": "43d83a8a",
   "metadata": {},
   "outputs": [
    {
     "name": "stdout",
     "output_type": "stream",
     "text": [
      "['Random 10 tied', 'Random 100 tied', 'Random 10 full', 'Random 100 full', 'Init kmeans 100 full', 'kmeans']\n",
      "[0.76, 0.5933333333333334, 0.6133333333333333, 0.7933333333333333, 0.9666666666666667, 0.8933333333333333]\n"
     ]
    }
   ],
   "source": [
    "print(lab)\n",
    "print(pure)"
   ]
  },
  {
   "cell_type": "code",
   "execution_count": 29,
   "id": "135bbc36",
   "metadata": {},
   "outputs": [
    {
     "data": {
      "text/plain": [
       "(150,)"
      ]
     },
     "execution_count": 29,
     "metadata": {},
     "output_type": "execute_result"
    }
   ],
   "source": [
    "yclust.shape"
   ]
  },
  {
   "cell_type": "code",
   "execution_count": 30,
   "id": "432b4210",
   "metadata": {},
   "outputs": [
    {
     "data": {
      "text/plain": [
       "array([0, 0, 0, 0, 0, 0, 0, 0, 0, 0, 0, 0, 0, 0, 0, 0, 0, 0, 0, 0, 0, 0,\n",
       "       0, 0, 0, 0, 0, 0, 0, 0, 0, 0, 0, 0, 0, 0, 0, 0, 0, 0, 0, 0, 0, 0,\n",
       "       0, 0, 0, 0, 0, 0, 1, 1, 2, 1, 1, 1, 1, 1, 1, 1, 1, 1, 1, 1, 1, 1,\n",
       "       1, 1, 1, 1, 1, 1, 1, 1, 1, 1, 1, 2, 1, 1, 1, 1, 1, 1, 1, 1, 1, 1,\n",
       "       1, 1, 1, 1, 1, 1, 1, 1, 1, 1, 1, 1, 2, 1, 2, 2, 2, 2, 1, 2, 2, 2,\n",
       "       2, 2, 2, 1, 1, 2, 2, 2, 2, 1, 2, 1, 2, 1, 2, 2, 1, 1, 2, 2, 2, 2,\n",
       "       2, 1, 2, 2, 2, 2, 1, 2, 2, 2, 1, 2, 2, 2, 1, 2, 2, 1])"
      ]
     },
     "execution_count": 30,
     "metadata": {},
     "output_type": "execute_result"
    }
   ],
   "source": [
    "yclust"
   ]
  },
  {
   "cell_type": "code",
   "execution_count": 31,
   "id": "dae7ff07",
   "metadata": {},
   "outputs": [
    {
     "data": {
      "text/plain": [
       "<AxesSubplot:title={'center':'EM with various paramters'}, ylabel='Method'>"
      ]
     },
     "execution_count": 31,
     "metadata": {},
     "output_type": "execute_result"
    },
    {
     "data": {
      "image/png": "[encoded data removed]",
      "text/plain": [
       "<Figure size 432x288 with 1 Axes>"
      ]
     },
     "metadata": {
      "needs_background": "light"
     },
     "output_type": "display_data"
    }
   ],
   "source": [
    "d = {'Method':lab,'Purity':pure}\n",
    "df = pd.DataFrame(d)\n",
    "df.plot.barh(x='Method',y='Purity',title='EM with various paramters')"
   ]
  },
  {
   "cell_type": "code",
   "execution_count": 32,
   "id": "3e2be21c",
   "metadata": {},
   "outputs": [
    {
     "data": {
      "text/html": [
       "<div>\n",
       "<style scoped>\n",
       "    .dataframe tbody tr th:only-of-type {\n",
       "        vertical-align: middle;\n",
       "    }\n",
       "\n",
       "    .dataframe tbody tr th {\n",
       "        vertical-align: top;\n",
       "    }\n",
       "\n",
       "    .dataframe thead th {\n",
       "        text-align: right;\n",
       "    }\n",
       "</style>\n",
       "<table border=\"1\" class=\"dataframe\">\n",
       "  <thead>\n",
       "    <tr style=\"text-align: right;\">\n",
       "      <th></th>\n",
       "      <th>Method</th>\n",
       "      <th>Purity</th>\n",
       "    </tr>\n",
       "  </thead>\n",
       "  <tbody>\n",
       "    <tr>\n",
       "      <th>0</th>\n",
       "      <td>Random 10 tied</td>\n",
       "      <td>0.760000</td>\n",
       "    </tr>\n",
       "    <tr>\n",
       "      <th>1</th>\n",
       "      <td>Random 100 tied</td>\n",
       "      <td>0.593333</td>\n",
       "    </tr>\n",
       "    <tr>\n",
       "      <th>2</th>\n",
       "      <td>Random 10 full</td>\n",
       "      <td>0.613333</td>\n",
       "    </tr>\n",
       "    <tr>\n",
       "      <th>3</th>\n",
       "      <td>Random 100 full</td>\n",
       "      <td>0.793333</td>\n",
       "    </tr>\n",
       "    <tr>\n",
       "      <th>4</th>\n",
       "      <td>Init kmeans 100 full</td>\n",
       "      <td>0.966667</td>\n",
       "    </tr>\n",
       "    <tr>\n",
       "      <th>5</th>\n",
       "      <td>kmeans</td>\n",
       "      <td>0.893333</td>\n",
       "    </tr>\n",
       "  </tbody>\n",
       "</table>\n",
       "</div>"
      ],
      "text/plain": [
       "                 Method    Purity\n",
       "0        Random 10 tied  0.760000\n",
       "1       Random 100 tied  0.593333\n",
       "2        Random 10 full  0.613333\n",
       "3       Random 100 full  0.793333\n",
       "4  Init kmeans 100 full  0.966667\n",
       "5                kmeans  0.893333"
      ]
     },
     "execution_count": 32,
     "metadata": {},
     "output_type": "execute_result"
    }
   ],
   "source": [
    "df"
   ]
  },
  {
   "cell_type": "markdown",
   "id": "14fabc4b",
   "metadata": {},
   "source": [
    "# Determination of n_components"
   ]
  },
  {
   "cell_type": "code",
   "execution_count": 36,
   "id": "8aeb3bf7",
   "metadata": {},
   "outputs": [
    {
     "data": {
      "text/plain": [
       "Text(0.5, 0, 'n_components')"
      ]
     },
     "execution_count": 36,
     "metadata": {},
     "output_type": "execute_result"
    },
    {
     "data": {
      "image/png": "[encoded data removed]",
      "text/plain": [
       "<Figure size 432x288 with 1 Axes>"
      ]
     },
     "metadata": {
      "needs_background": "light"
     },
     "output_type": "display_data"
    }
   ],
   "source": [
    "n_components = np.arange(1,15,2)\n",
    "models= [mixture.GaussianMixture(n,covariance_type=\"full\",random_state=0).fit(X) for n in n_components]\n",
    "plt.plot(n_components,[m.bic(X) for m in models],label=\"BIC\")\n",
    "plt.xlabel(\"n_components\")"
   ]
  },
  {
   "cell_type": "markdown",
   "id": "cf3cab71",
   "metadata": {},
   "source": [
    "# So,BIC is min at n_components at 3 which is clearly seen in the dataset also."
   ]
  },
  {
   "cell_type": "code",
   "execution_count": null,
   "id": "c203c842",
   "metadata": {},
   "outputs": [],
   "source": []
  }
 ],
 "metadata": {
  "kernelspec": {
   "display_name": "Python 3",
   "language": "python",
   "name": "python3"
  },
  "language_info": {
   "codemirror_mode": {
    "name": "ipython",
    "version": 3
   },
   "file_extension": ".py",
   "mimetype": "text/x-python",
   "name": "python",
   "nbconvert_exporter": "python",
   "pygments_lexer": "ipython3",
   "version": "3.8.8"
  }
 },
 "nbformat": 4,
 "nbformat_minor": 5
}
